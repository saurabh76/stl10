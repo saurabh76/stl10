{
 "cells": [
  {
   "cell_type": "markdown",
   "metadata": {},
   "source": [
    "# STL10 DataSet for Fellowship.AI "
   ]
  },
  {
   "cell_type": "markdown",
   "metadata": {},
   "source": [
    "Directory structure:\n",
    "```\n",
    "lesson1/\n",
    "    data/\n",
    "        stl10.ipynb\n",
    "        \n",
    "        stl10/\n",
    "        \n",
    "            binary/\n",
    "                train_X.bin\n",
    "                train_y.bin\n",
    "                \n",
    "                test_X.bin\n",
    "                test_y.bin\n",
    "                \n",
    "                unlabeled_X.bin\n",
    "                \n",
    "                class_names.txt\n",
    "                fold_indices.txt\n",
    "                        \n",
    "```"
   ]
  },
  {
   "cell_type": "code",
   "execution_count": 1,
   "metadata": {},
   "outputs": [
    {
     "name": "stdout",
     "output_type": "stream",
     "text": [
      "C:\\Users\\saurabh\\Anaconda3\\lesson1\n"
     ]
    },
    {
     "data": {
      "text/plain": [
       "'C:\\\\Users\\\\saurabh\\\\Anaconda3\\\\lesson1'"
      ]
     },
     "execution_count": 1,
     "metadata": {},
     "output_type": "execute_result"
    }
   ],
   "source": [
    "#Check the dirctory \n",
    "%cd ~/Anaconda3/lesson1\n",
    "%pwd"
   ]
  },
  {
   "cell_type": "code",
   "execution_count": 2,
   "metadata": {},
   "outputs": [
    {
     "name": "stdout",
     "output_type": "stream",
     "text": [
      "LESSON_HOME_DIR is : C:\\Users\\saurabh\\Anaconda3\\lesson1\n",
      "DATA_HOME_DIR is : C:\\Users\\saurabh\\Anaconda3\\lesson1\\data\\stl10\\\n"
     ]
    }
   ],
   "source": [
    "#Create references to important directories we will use over and over\n",
    "import os, sys\n",
    "current_dir = os.getcwd()\n",
    "LESSON_HOME_DIR = current_dir\n",
    "DATA_HOME_DIR = current_dir+'\\\\data\\\\stl10\\\\'\n",
    "DATA_BIN_DIR = current_dir+'\\\\data\\\\stl10\\\\binary\\\\'\n",
    "DATA_TRAIN_DIR = current_dir+'\\\\data\\\\stl10\\\\train\\\\'\n",
    "DATA_IMG_DIR = current_dir+'\\\\data\\\\stl10\\\\images\\\\'\n",
    "DATA_VAL_DIR = current_dir+'\\\\data\\\\stl10\\\\valid\\\\'\n",
    "print(\"LESSON_HOME_DIR is : \" + str(LESSON_HOME_DIR))\n",
    "print(\"DATA_HOME_DIR is : \" + str(DATA_HOME_DIR))"
   ]
  },
  {
   "cell_type": "code",
   "execution_count": 3,
   "metadata": {},
   "outputs": [
    {
     "name": "stderr",
     "output_type": "stream",
     "text": [
      "Using Theano backend.\n"
     ]
    }
   ],
   "source": [
    "%matplotlib inline\n",
    "\n",
    "#if using Theano with GPU\n",
    "#os.environ[\"THEANO_FLAGS\"] = \"mode=FAST_RUN,device=gpu,floatX=float32\"\n",
    "\n",
    "import random\n",
    "import numpy as np\n",
    "import keras\n",
    "\n",
    "import matplotlib.pyplot as plt\n",
    "from matplotlib.pyplot import imshow\n",
    "import PIL\n",
    "\n",
    "from keras.preprocessing import image\n",
    "from keras.applications.imagenet_utils import preprocess_input\n",
    "from keras.models import Sequential\n",
    "from keras.layers import Dense, Dropout, Flatten, Activation\n",
    "from keras.layers import Conv2D, MaxPooling2D\n",
    "from keras.models import Model"
   ]
  },
  {
   "cell_type": "code",
   "execution_count": 4,
   "metadata": {
    "code_folding": [
     66,
     106,
     125
    ]
   },
   "outputs": [
    {
     "name": "stdout",
     "output_type": "stream",
     "text": [
      "sys.version_info(major=3, minor=6, micro=3, releaselevel='final', serial=0)\n",
      "Len of Shuffle Index 5000\n",
      "Len of Shuffle Index 5000\n",
      "Index of Val Start 3500\n",
      "Idx Test is : 4250\n",
      "Shape of X Unlabeled (100000, 96, 96, 3)\n"
     ]
    }
   ],
   "source": [
    "# %load '~/utils/input.py'\n",
    "#Adapted from the python code at https://cs.stanford.edu/~acoates/stl10/\n",
    "from __future__ import print_function\n",
    "\n",
    "import sys\n",
    "import os, sys, tarfile\n",
    "import numpy as np\n",
    "import matplotlib.pyplot as plt\n",
    "#from keras.preprocessing import image\n",
    "\n",
    "#For copying/moving files into appropriate dircetories\n",
    "from shutil import copyfile\n",
    "#https://stackoverflow.com/questions/35613249/using-ipdb-to-debug-python-code-in-one-cell-jupyter-or-ipython\n",
    "from IPython.core.debugger import set_trace\n",
    "    \n",
    "if sys.version_info >= (3, 0, 0):\n",
    "    import urllib.request as urllib # ugly but works\n",
    "else:\n",
    "    import urllib\n",
    "\n",
    "print(sys.version_info) \n",
    "\n",
    "# image shape\n",
    "HEIGHT = 96\n",
    "WIDTH = 96\n",
    "DEPTH = 3\n",
    "\n",
    "#Making output stable across runs\n",
    "np.random.seed(42)\n",
    "\n",
    "# size of a single image in bytes\n",
    "SIZE = HEIGHT * WIDTH * DEPTH\n",
    "\n",
    "# path to the directory with the data\n",
    "DATA_HOME_BIN_DIR = DATA_HOME_DIR+'\\\\'\n",
    "\n",
    "# url of the binary data\n",
    "# DATA_URL = 'http://ai.stanford.edu/~acoates/stl10/stl10_binary.tar.gz'\n",
    "\n",
    "#Train\n",
    "# path to the binary train file with image data\n",
    "DATA_PATH = DATA_BIN_DIR+'train_X.bin'\n",
    "# path to the binary train file with labels\n",
    "LABEL_PATH = DATA_BIN_DIR+'train_y.bin'\n",
    "\n",
    "#Test\n",
    "# path to the binary test file with image data\n",
    "DATA_TEST_PATH = DATA_BIN_DIR+'test_X.bin'\n",
    "# path to the binary test file with labels\n",
    "LABEL_TEST_PATH = DATA_BIN_DIR+'test_y.bin'\n",
    "\n",
    "#Unlabeled Data\n",
    "UNLABELED_PATH = DATA_BIN_DIR+'unlabeled_X.bin'\n",
    "\n",
    "#Fold Path - ie the path for Fold Indices\n",
    "FOLD_PATH = DATA_BIN_DIR+'fold_indices.txt'\n",
    "\n",
    "def read_labels(path_to_labels):\n",
    "    \"\"\"\n",
    "    :param path_to_labels: path to the binary file containing labels from the STL-10 dataset\n",
    "    :return: an array containing the labels\n",
    "    \"\"\"\n",
    "    with open(path_to_labels, 'rb') as f:\n",
    "        labels = np.fromfile(f, dtype=np.uint8)\n",
    "        return labels\n",
    "\n",
    "def read_indices(path_to_indices):\n",
    "    \"\"\"\n",
    "    :param path_to_indices: path to the Text file containing indices from the STL-10 dataset\n",
    "    :return: an array containing the indices\n",
    "    \"\"\"\n",
    "    #Separator = space signifies that this is a text file\n",
    "    with open(path_to_indices, 'rb') as f:\n",
    "        indices = np.fromfile(f, dtype=np.int, sep=' ')\n",
    "        return indices\n",
    "    \n",
    "\n",
    "def read_all_images(path_to_data, flag_for_moving=0):\n",
    "    \"\"\"\n",
    "    :param path_to_data: the file containing the binary images from the STL-10 dataset\n",
    "    :return: an array containing all the images\n",
    "    \"\"\"\n",
    "\n",
    "    with open(path_to_data, 'rb') as f:\n",
    "        # read whole file in uint8 chunks\n",
    "        everything = np.fromfile(f, dtype=np.uint8)\n",
    "\n",
    "        # We force the data into 3x96x96 chunks, since the\n",
    "        # images are stored in \"column-major order\", meaning\n",
    "        # that \"the first 96*96 values are the red channel,\n",
    "        # the next 96*96 are green, and the last are blue.\"\n",
    "        # The -1 is since the size of the pictures depends\n",
    "        # on the input file, and this way numpy determines\n",
    "        # the size on its own.\n",
    "\n",
    "        images = np.reshape(everything, (-1, 3, 96, 96))\n",
    "\n",
    "        # Now transpose the images into a standard image format\n",
    "        # readable by, for example, matplotlib.imshow\n",
    "        # You might want to comment this line or reverse the shuffle\n",
    "        # if you will use a learning algorithm like CNN, since they like\n",
    "        # their channels separated.\n",
    "        images = np.transpose(images, (0, 3, 2, 1))\n",
    "        return images\n",
    "\n",
    "\n",
    "def read_single_image(image_file):\n",
    "    \"\"\"\n",
    "    CAREFUL! - this method uses a file as input instead of the path - so the\n",
    "    position of the reader will be remembered outside of context of this method.\n",
    "    :param image_file: the open file containing the images\n",
    "    :return: a single image\n",
    "    \"\"\"\n",
    "    # read a single image, count determines the number of uint8's to read\n",
    "    image = np.fromfile(image_file, dtype=np.uint8, count=SIZE)\n",
    "    # force into image matrix\n",
    "    image = np.reshape(image, (3, 96, 96))\n",
    "    # transpose to standard format\n",
    "    # You might want to comment this line or reverse the shuffle\n",
    "    # if you will use a learning algorithm like CNN, since they like\n",
    "    # their channels separated.\n",
    "    image = np.transpose(image, (2, 1, 0))\n",
    "    return image\n",
    "\n",
    "\n",
    "def plot_image(image):\n",
    "    \"\"\"\n",
    "    :param image: the image to be plotted in a 3-D matrix format\n",
    "    :return: None\n",
    "    \"\"\"\n",
    "    plt.imshow(image)\n",
    "    plt.show()\n",
    "\n",
    "def save_fig(fig_id):\n",
    "    path = os.path.join(DATA_TRAIN_DIR, \"images\", str(fig_id) + \".png\")\n",
    "    #print(\"Saving figure\", fig_id)\n",
    "    #plt.savefig(path, format='png', dpi=300)\n",
    "    plt.tight_layout()\n",
    "    plt.savefig(path, format='png')\n",
    "    \n",
    "#Allocate into X_train and X_test\n",
    "X_train = read_all_images(DATA_PATH,1)\n",
    "X_test  = read_all_images(DATA_TEST_PATH)\n",
    "#    print(images.shape)\n",
    "\n",
    "#Allocate into y_train and y_test\n",
    "y_train = read_labels(LABEL_PATH)\n",
    "y_test  = read_labels(LABEL_TEST_PATH)\n",
    "#    print(labels.shape)\n",
    "\n",
    "#0 airplane #1 bird #2 car #3 cat #4 deer #5 dog #6 horse #7 monkey #8 ship #9 truck\n",
    "y_train = y_train - 1\n",
    "y_test  = y_test - 1\n",
    "\n",
    "num_classes = 10\n",
    "\n",
    "# Shuffle the Training Data Set now\n",
    "# We have 5000 Training Images\n",
    "shuffle_index = np.random.permutation(5000)\n",
    "print(\"Len of Shuffle Index\", len(shuffle_index))\n",
    "All_X_train, All_y_train = X_train[shuffle_index], y_train[shuffle_index]\n",
    "\n",
    "#Create Train, Validation and Test Splits \n",
    "train_split, val_split = 0.7, 0.15\n",
    "\n",
    "idx_val = int(train_split * len(shuffle_index))\n",
    "print(\"Len of Shuffle Index\", len(shuffle_index))\n",
    "print(\"Index of Val Start\", idx_val)\n",
    "\n",
    "idx_test = int((train_split + val_split) * len(shuffle_index))\n",
    "print(\"Idx Test is :\",idx_test)\n",
    "X_train, y_train = All_X_train[:idx_val], All_y_train[:idx_val] #70% of Total Data\n",
    "X_val, y_val     = All_X_train[idx_val:idx_test], All_y_train[idx_val:idx_test] #15% \n",
    "\n",
    "\n",
    "#Read Indices\n",
    "fold_indices = read_indices(FOLD_PATH)\n",
    "fold_indices = fold_indices.reshape(10,1000)\n",
    "\n",
    "#Reading unlabeled dataset\n",
    "X_unlabeled_all = read_all_images(UNLABELED_PATH)\n",
    "\n",
    "print(\"Shape of X Unlabeled\", X_unlabeled_all.shape)\n",
    "\n"
   ]
  },
  {
   "cell_type": "code",
   "execution_count": 5,
   "metadata": {},
   "outputs": [
    {
     "name": "stdout",
     "output_type": "stream",
     "text": [
      "Checking for 1st 1000 Unlabeled Images  (1000, 96, 96, 3)\n"
     ]
    },
    {
     "data": {
      "image/png": "[encoded data removed]",
      "text/plain": [
       "<matplotlib.figure.Figure at 0x1f2ae4106a0>"
      ]
     },
     "metadata": {},
     "output_type": "display_data"
    },
    {
     "data": {
      "image/png": "[encoded data removed]",
      "text/plain": [
       "<matplotlib.figure.Figure at 0x1f2af4f5b38>"
      ]
     },
     "metadata": {},
     "output_type": "display_data"
    },
    {
     "data": {
      "image/png": "[encoded data removed]",
      "text/plain": [
       "<matplotlib.figure.Figure at 0x1f2b2837ef0>"
      ]
     },
     "metadata": {},
     "output_type": "display_data"
    },
    {
     "name": "stdout",
     "output_type": "stream",
     "text": [
      "Shape of Image  2 (96, 96, 3)\n",
      "Number of Dimensions  2 3\n",
      "X  2 [[[254 255 249]\n",
      "  [254 255 249]\n",
      "  [254 255 249]\n",
      "  ..., \n",
      "  [ 70 105 127]\n",
      "  [ 72 103 133]\n",
      "  [ 72 104 132]]\n",
      "\n",
      " [[254 255 249]\n",
      "  [254 255 249]\n",
      "  [254 255 249]\n",
      "  ..., \n",
      "  [ 87 132 133]\n",
      "  [ 89 137 132]\n",
      "  [ 92 147 134]]\n",
      "\n",
      " [[254 255 249]\n",
      "  [254 255 249]\n",
      "  [254 255 249]\n",
      "  ..., \n",
      "  [126 185 139]\n",
      "  [125 189 138]\n",
      "  [131 190 135]]\n",
      "\n",
      " ..., \n",
      " [[102 164  89]\n",
      "  [110 178  88]\n",
      "  [ 99 170  93]\n",
      "  ..., \n",
      "  [127 178 108]\n",
      "  [123 187 100]\n",
      "  [111 178  91]]\n",
      "\n",
      " [[ 95 146  80]\n",
      "  [ 91 154  69]\n",
      "  [ 92 156  79]\n",
      "  ..., \n",
      "  [100 149  77]\n",
      "  [ 94 150  72]\n",
      "  [105 164  84]]\n",
      "\n",
      " [[  6   8   5]\n",
      "  [  5   8   4]\n",
      "  [  5   8   4]\n",
      "  ..., \n",
      "  [  6   8   5]\n",
      "  [  3   5   1]\n",
      "  [  5   8   5]]]\n"
     ]
    },
    {
     "data": {
      "text/plain": [
       "<matplotlib.figure.Figure at 0x1f2b285f2b0>"
      ]
     },
     "metadata": {},
     "output_type": "display_data"
    }
   ],
   "source": [
    "#Take 1000 examples from the unlabeled dataset\n",
    "X_unlabeled_1K = []\n",
    "X_unlabeled_1K = X_unlabeled_all[5000:6000]\n",
    "print(\"Checking for 1st 1000 Unlabeled Images \", X_unlabeled_1K.shape)\n",
    "for i in range(3):\n",
    "    plot_image(X_unlabeled_1K[i])\n",
    "print(\"Shape of Image \", str(i), X_unlabeled_1K[i].shape)    \n",
    "print(\"Number of Dimensions \", str(i), X_unlabeled_1K[i].ndim)\n",
    "print(\"X \", str(i), X_unlabeled_1K[i])\n",
    "save_fig(i)"
   ]
  },
  {
   "cell_type": "code",
   "execution_count": 6,
   "metadata": {
    "collapsed": true
   },
   "outputs": [],
   "source": [
    "# Comment out this line when done with some basic testing\n",
    "# Just using part of Training Data first, will switch to given data later\n",
    "X_test, y_test   = All_X_train[idx_test:], All_y_train[idx_test:] #Remaining data (ie 15%)\n"
   ]
  },
  {
   "cell_type": "code",
   "execution_count": 7,
   "metadata": {
    "code_folding": [],
    "collapsed": true
   },
   "outputs": [],
   "source": [
    "#Checking the Training Images in each fold\n",
    "\n",
    "# fold_indices = fold_indices.reshape(10,1000)\n",
    "\n",
    "# # for i in range(10):\n",
    "\n",
    "# #Random check for 2d row - each row is from 0 to 999?\n",
    "# i =999\n",
    "# print(\"Fold indices \", fold_indices[1][0])\n",
    "# plot_image(X_train[fold_indices[1][0]])\n",
    "# print(\"Shape of X train\",X_train.shape)\n",
    "# print(\"Shape of y train\",y_train.shape)\n",
    "# print(y_train_new[fold_indices[1][0]])\n",
    "# print(\"\\n\")\n",
    "\n",
    "#0 airplane #1 bird #2 car #3 cat #4 deer #5 dog #6 horse #7 monkey #8 ship #9 truck\n",
    "\n",
    "#     plot_image(X_train[fold_indices[i][0]])\n",
    "# \n",
    "# for i in range(8):\n",
    "#     print(\"Length of \"+str(i)+\" fold : \", len(X_train[fold_indices[i]]))"
   ]
  },
  {
   "cell_type": "code",
   "execution_count": 8,
   "metadata": {
    "collapsed": true
   },
   "outputs": [],
   "source": [
    "# normalize data\n",
    "X_train = X_train.astype('float32') / 255.\n",
    "X_val = X_val.astype('float32') / 255.\n",
    "X_test = X_test.astype('float32') / 255."
   ]
  },
  {
   "cell_type": "code",
   "execution_count": 9,
   "metadata": {
    "code_folding": []
   },
   "outputs": [
    {
     "name": "stdout",
     "output_type": "stream",
     "text": [
      "X Train :  [[ 0.56078434  0.4627451   0.3882353 ]\n",
      " [ 0.51372552  0.40784314  0.35686275]\n",
      " [ 0.55686277  0.47843137  0.40392157]\n",
      " [ 0.60784316  0.53333336  0.46666667]\n",
      " [ 0.52156866  0.45882353  0.39215687]\n",
      " [ 0.59215689  0.52156866  0.44705883]\n",
      " [ 0.59607846  0.52156866  0.43137255]\n",
      " [ 0.58823532  0.52156866  0.44313726]\n",
      " [ 0.51764709  0.44705883  0.37254903]\n",
      " [ 0.33333334  0.27450982  0.21960784]\n",
      " [ 0.31764707  0.26274511  0.23529412]\n",
      " [ 0.45882353  0.39607844  0.32941177]\n",
      " [ 0.60000002  0.50980395  0.41176471]\n",
      " [ 0.64705884  0.56862748  0.47843137]\n",
      " [ 0.56078434  0.50980395  0.43921569]\n",
      " [ 0.56470591  0.50588238  0.41176471]\n",
      " [ 0.50980395  0.43137255  0.38431373]\n",
      " [ 0.58431375  0.49019608  0.40392157]\n",
      " [ 0.56862748  0.44313726  0.35686275]\n",
      " [ 0.68235296  0.63529414  0.59607846]\n",
      " [ 0.38039216  0.31764707  0.25882354]\n",
      " [ 0.40392157  0.33333334  0.27058825]\n",
      " [ 0.17254902  0.11372549  0.09019608]\n",
      " [ 0.10588235  0.06666667  0.0627451 ]\n",
      " [ 0.18039216  0.14117648  0.12941177]\n",
      " [ 0.5529412   0.47058824  0.43921569]\n",
      " [ 0.53725493  0.4627451   0.39607844]\n",
      " [ 0.61176473  0.53725493  0.4509804 ]\n",
      " [ 0.63137257  0.56078434  0.47843137]\n",
      " [ 0.63921571  0.57254905  0.49803922]\n",
      " [ 0.59607846  0.5411765   0.45882353]\n",
      " [ 0.50588238  0.43921569  0.40392157]\n",
      " [ 0.7647059   0.70980394  0.64313728]\n",
      " [ 0.5529412   0.44313726  0.36078432]\n",
      " [ 0.4627451   0.33725491  0.24705882]\n",
      " [ 0.58431375  0.47450981  0.39215687]\n",
      " [ 0.54509807  0.43529412  0.34901962]\n",
      " [ 0.49019608  0.36862746  0.27450982]\n",
      " [ 0.49019608  0.37254903  0.26666668]\n",
      " [ 0.53725493  0.45490196  0.34901962]\n",
      " [ 0.54901963  0.47450981  0.3764706 ]\n",
      " [ 0.70980394  0.61176473  0.51372552]\n",
      " [ 0.68627453  0.60000002  0.53333336]\n",
      " [ 0.52549022  0.46666667  0.40000001]\n",
      " [ 0.5529412   0.47450981  0.38431373]\n",
      " [ 0.54901963  0.47058824  0.3882353 ]\n",
      " [ 0.58431375  0.45882353  0.35294119]\n",
      " [ 0.75686276  0.64313728  0.50980395]\n",
      " [ 0.69803923  0.61960787  0.52156866]\n",
      " [ 0.63921571  0.5529412   0.48235294]\n",
      " [ 0.76078433  0.7019608   0.627451  ]\n",
      " [ 0.44705883  0.38039216  0.30980393]\n",
      " [ 0.41176471  0.32549021  0.25882354]\n",
      " [ 0.43529412  0.35294119  0.29019609]\n",
      " [ 0.34117648  0.25490198  0.20392157]\n",
      " [ 0.26666668  0.17647059  0.14901961]\n",
      " [ 0.22352941  0.15294118  0.11764706]\n",
      " [ 0.41568628  0.32941177  0.26274511]\n",
      " [ 0.55686277  0.47843137  0.40392157]\n",
      " [ 0.27450982  0.20784314  0.17254902]\n",
      " [ 0.27843139  0.21960784  0.1882353 ]\n",
      " [ 0.40784314  0.3882353   0.35294119]\n",
      " [ 0.17647059  0.17254902  0.16078432]\n",
      " [ 0.11764706  0.09019608  0.08627451]\n",
      " [ 0.12156863  0.09411765  0.08235294]\n",
      " [ 0.16862746  0.15294118  0.15294118]\n",
      " [ 0.14901961  0.14117648  0.14901961]\n",
      " [ 0.10980392  0.09803922  0.11764706]\n",
      " [ 0.09803922  0.08235294  0.08627451]\n",
      " [ 0.1882353   0.14901961  0.14117648]\n",
      " [ 0.17254902  0.10980392  0.09411765]\n",
      " [ 0.17647059  0.13333334  0.1254902 ]\n",
      " [ 0.20784314  0.17254902  0.17647059]\n",
      " [ 0.26666668  0.20784314  0.17254902]\n",
      " [ 0.49019608  0.4509804   0.32941177]\n",
      " [ 0.56862748  0.52941179  0.42352942]\n",
      " [ 0.62352943  0.56470591  0.48627451]\n",
      " [ 0.65882355  0.60392159  0.52941179]\n",
      " [ 0.63921571  0.56862748  0.51372552]\n",
      " [ 0.64313728  0.58431375  0.4627451 ]\n",
      " [ 0.47058824  0.42745098  0.32549021]\n",
      " [ 0.49411765  0.46666667  0.33725491]\n",
      " [ 0.55686277  0.52549022  0.41568628]\n",
      " [ 0.60000002  0.56470591  0.41960785]\n",
      " [ 0.71764708  0.65882355  0.56078434]\n",
      " [ 0.72549021  0.65882355  0.58431375]\n",
      " [ 0.71764708  0.65490198  0.56078434]\n",
      " [ 0.69803923  0.627451    0.52156866]\n",
      " [ 0.63921571  0.52549022  0.43921569]\n",
      " [ 0.52941179  0.4509804   0.39607844]\n",
      " [ 0.61960787  0.5411765   0.43137255]\n",
      " [ 0.79215688  0.74509805  0.65098041]\n",
      " [ 0.50980395  0.42745098  0.34509805]\n",
      " [ 0.49803922  0.39215687  0.30588236]\n",
      " [ 0.68235296  0.59607846  0.49019608]\n",
      " [ 0.80392158  0.74509805  0.65098041]]\n",
      "\n",
      "\n",
      "X Val :  [[ 0.54901963  0.54509807  0.60784316]\n",
      " [ 0.55686277  0.5529412   0.60392159]\n",
      " [ 0.62352943  0.60000002  0.63529414]\n",
      " [ 0.64313728  0.63137257  0.63529414]\n",
      " [ 0.66274512  0.66274512  0.67450982]\n",
      " [ 0.65882355  0.65098041  0.67450982]\n",
      " [ 0.65490198  0.64313728  0.68627453]\n",
      " [ 0.65882355  0.64705884  0.7019608 ]\n",
      " [ 0.65098041  0.64705884  0.68235296]\n",
      " [ 0.64313728  0.65490198  0.67450982]\n",
      " [ 0.64705884  0.64705884  0.67450982]\n",
      " [ 0.62352943  0.61960787  0.66274512]\n",
      " [ 0.63921571  0.63921571  0.68627453]\n",
      " [ 0.64313728  0.64313728  0.69411767]\n",
      " [ 0.64705884  0.65098041  0.67450982]\n",
      " [ 0.65882355  0.65098041  0.67058825]\n",
      " [ 0.65098041  0.63529414  0.67450982]\n",
      " [ 0.627451    0.61960787  0.66666669]\n",
      " [ 0.61960787  0.6156863   0.67058825]\n",
      " [ 0.6156863   0.61176473  0.65490198]\n",
      " [ 0.65882355  0.65490198  0.65882355]\n",
      " [ 0.66666669  0.65098041  0.66666669]\n",
      " [ 0.67058825  0.65882355  0.65882355]\n",
      " [ 0.67058825  0.65882355  0.65098041]\n",
      " [ 0.68235296  0.67058825  0.67450982]\n",
      " [ 0.6156863   0.6156863   0.66274512]\n",
      " [ 0.58823532  0.58039218  0.627451  ]\n",
      " [ 0.63529414  0.63529414  0.65882355]\n",
      " [ 0.6156863   0.60784316  0.627451  ]\n",
      " [ 0.63529414  0.59607846  0.63529414]\n",
      " [ 0.66274512  0.64705884  0.64705884]\n",
      " [ 0.66274512  0.65490198  0.65098041]\n",
      " [ 0.64705884  0.64705884  0.65098041]\n",
      " [ 0.68627453  0.67843139  0.67843139]\n",
      " [ 0.73333335  0.72156864  0.69803923]\n",
      " [ 0.66666669  0.66274512  0.68627453]\n",
      " [ 0.66666669  0.65490198  0.69411767]\n",
      " [ 0.6901961   0.67450982  0.68627453]\n",
      " [ 0.6901961   0.67450982  0.6901961 ]\n",
      " [ 0.66274512  0.66274512  0.6901961 ]\n",
      " [ 0.61960787  0.6156863   0.65490198]\n",
      " [ 0.63137257  0.62352943  0.63529414]\n",
      " [ 0.62352943  0.61960787  0.61960787]\n",
      " [ 0.63137257  0.63137257  0.63529414]\n",
      " [ 0.64313728  0.63921571  0.66274512]\n",
      " [ 0.62352943  0.627451    0.63529414]\n",
      " [ 0.66274512  0.65098041  0.63921571]\n",
      " [ 0.6901961   0.68235296  0.68235296]\n",
      " [ 0.66666669  0.65882355  0.67058825]\n",
      " [ 0.69411767  0.67450982  0.68235296]\n",
      " [ 0.67450982  0.65882355  0.67843139]\n",
      " [ 0.63921571  0.63921571  0.66274512]\n",
      " [ 0.66274512  0.65490198  0.66666669]\n",
      " [ 0.68235296  0.68235296  0.66274512]\n",
      " [ 0.67843139  0.66274512  0.67058825]\n",
      " [ 0.68235296  0.65882355  0.66274512]\n",
      " [ 0.66274512  0.65490198  0.65490198]\n",
      " [ 0.66274512  0.66666669  0.65882355]\n",
      " [ 0.69411767  0.68627453  0.68627453]\n",
      " [ 0.6901961   0.6901961   0.68235296]\n",
      " [ 0.64705884  0.63921571  0.65490198]\n",
      " [ 0.63921571  0.63921571  0.66274512]\n",
      " [ 0.61960787  0.63137257  0.66666669]\n",
      " [ 0.63529414  0.63529414  0.66666669]\n",
      " [ 0.65098041  0.64705884  0.66666669]\n",
      " [ 0.64705884  0.64313728  0.67450982]\n",
      " [ 0.63529414  0.627451    0.65098041]\n",
      " [ 0.62352943  0.62352943  0.63921571]\n",
      " [ 0.63137257  0.63529414  0.64705884]\n",
      " [ 0.63137257  0.64313728  0.67450982]\n",
      " [ 0.63529414  0.63921571  0.6901961 ]\n",
      " [ 0.63137257  0.61960787  0.67450982]\n",
      " [ 0.6156863   0.61176473  0.66666669]\n",
      " [ 0.63921571  0.64313728  0.66666669]\n",
      " [ 0.65098041  0.64705884  0.66274512]\n",
      " [ 0.65098041  0.65098041  0.65098041]\n",
      " [ 0.63529414  0.63529414  0.627451  ]\n",
      " [ 0.63137257  0.62352943  0.64705884]\n",
      " [ 0.627451    0.62352943  0.65490198]\n",
      " [ 0.627451    0.627451    0.65490198]\n",
      " [ 0.60392159  0.60000002  0.61960787]\n",
      " [ 0.63921571  0.63921571  0.64705884]\n",
      " [ 0.62352943  0.63137257  0.61960787]\n",
      " [ 0.61176473  0.61176473  0.6156863 ]\n",
      " [ 0.65098041  0.64705884  0.66666669]\n",
      " [ 0.64705884  0.64313728  0.65490198]\n",
      " [ 0.61960787  0.6156863   0.61960787]\n",
      " [ 0.62352943  0.6156863   0.63921571]\n",
      " [ 0.65098041  0.64705884  0.66666669]\n",
      " [ 0.65490198  0.65098041  0.67450982]\n",
      " [ 0.64313728  0.63137257  0.66274512]\n",
      " [ 0.62352943  0.61960787  0.63921571]\n",
      " [ 0.627451    0.63529414  0.65882355]\n",
      " [ 0.63529414  0.63529414  0.66274512]\n",
      " [ 0.63921571  0.63137257  0.65490198]\n",
      " [ 0.65490198  0.6156863   0.61960787]]\n",
      "\n",
      "\n",
      "X Test :  [[ 0.  0.  0.]\n",
      " [ 0.  0.  0.]\n",
      " [ 0.  0.  0.]\n",
      " [ 0.  0.  0.]\n",
      " [ 0.  0.  0.]\n",
      " [ 0.  0.  0.]\n",
      " [ 0.  0.  0.]\n",
      " [ 0.  0.  0.]\n",
      " [ 0.  0.  0.]\n",
      " [ 0.  0.  0.]\n",
      " [ 0.  0.  0.]\n",
      " [ 0.  0.  0.]\n",
      " [ 0.  0.  0.]\n",
      " [ 0.  0.  0.]\n",
      " [ 0.  0.  0.]\n",
      " [ 0.  0.  0.]\n",
      " [ 0.  0.  0.]\n",
      " [ 0.  0.  0.]\n",
      " [ 0.  0.  0.]\n",
      " [ 0.  0.  0.]\n",
      " [ 0.  0.  0.]\n",
      " [ 0.  0.  0.]\n",
      " [ 0.  0.  0.]\n",
      " [ 0.  0.  0.]\n",
      " [ 0.  0.  0.]\n",
      " [ 0.  0.  0.]\n",
      " [ 0.  0.  0.]\n",
      " [ 0.  0.  0.]\n",
      " [ 0.  0.  0.]\n",
      " [ 0.  0.  0.]\n",
      " [ 0.  0.  0.]\n",
      " [ 0.  0.  0.]\n",
      " [ 0.  0.  0.]\n",
      " [ 0.  0.  0.]\n",
      " [ 0.  0.  0.]\n",
      " [ 0.  0.  0.]\n",
      " [ 0.  0.  0.]\n",
      " [ 0.  0.  0.]\n",
      " [ 0.  0.  0.]\n",
      " [ 0.  0.  0.]\n",
      " [ 0.  0.  0.]\n",
      " [ 0.  0.  0.]\n",
      " [ 0.  0.  0.]\n",
      " [ 0.  0.  0.]\n",
      " [ 0.  0.  0.]\n",
      " [ 0.  0.  0.]\n",
      " [ 0.  0.  0.]\n",
      " [ 0.  0.  0.]\n",
      " [ 0.  0.  0.]\n",
      " [ 0.  0.  0.]\n",
      " [ 0.  0.  0.]\n",
      " [ 0.  0.  0.]\n",
      " [ 0.  0.  0.]\n",
      " [ 0.  0.  0.]\n",
      " [ 0.  0.  0.]\n",
      " [ 0.  0.  0.]\n",
      " [ 0.  0.  0.]\n",
      " [ 0.  0.  0.]\n",
      " [ 0.  0.  0.]\n",
      " [ 0.  0.  0.]\n",
      " [ 0.  0.  0.]\n",
      " [ 0.  0.  0.]\n",
      " [ 0.  0.  0.]\n",
      " [ 0.  0.  0.]\n",
      " [ 0.  0.  0.]\n",
      " [ 0.  0.  0.]\n",
      " [ 0.  0.  0.]\n",
      " [ 0.  0.  0.]\n",
      " [ 0.  0.  0.]\n",
      " [ 0.  0.  0.]\n",
      " [ 0.  0.  0.]\n",
      " [ 0.  0.  0.]\n",
      " [ 0.  0.  0.]\n",
      " [ 0.  0.  0.]\n",
      " [ 0.  0.  0.]\n",
      " [ 0.  0.  0.]\n",
      " [ 0.  0.  0.]\n",
      " [ 0.  0.  0.]\n",
      " [ 0.  0.  0.]\n",
      " [ 0.  0.  0.]\n",
      " [ 0.  0.  0.]\n",
      " [ 0.  0.  0.]\n",
      " [ 0.  0.  0.]\n",
      " [ 0.  0.  0.]\n",
      " [ 0.  0.  0.]\n",
      " [ 0.  0.  0.]\n",
      " [ 0.  0.  0.]\n",
      " [ 0.  0.  0.]\n",
      " [ 0.  0.  0.]\n",
      " [ 0.  0.  0.]\n",
      " [ 0.  0.  0.]\n",
      " [ 0.  0.  0.]\n",
      " [ 0.  0.  0.]\n",
      " [ 0.  0.  0.]\n",
      " [ 0.  0.  0.]\n",
      " [ 0.  0.  0.]]\n",
      "\n",
      "\n"
     ]
    }
   ],
   "source": [
    "#Printing X Train, X Val and X Test\n",
    "print(\"X Train : \" ,X_train[0][95])\n",
    "print(\"\\n\")\n",
    "print(\"X Val : \" ,X_val[0][95])\n",
    "print(\"\\n\")\n",
    "print(\"X Test : \" ,X_test[0][95])\n",
    "print(\"\\n\")\n",
    "\n"
   ]
  },
  {
   "cell_type": "code",
   "execution_count": 10,
   "metadata": {},
   "outputs": [
    {
     "name": "stdout",
     "output_type": "stream",
     "text": [
      "train / validation / test split: 3500, 750, 750\n",
      "Len of X Val :  750\n",
      "Len of X Val :  (750, 96, 96, 3)\n"
     ]
    }
   ],
   "source": [
    "#Printing the lengths for each test\n",
    "print(\"train / validation / test split: %d, %d, %d\"%(len(X_train), len(X_val), len(X_test)))\n",
    "print(\"Len of X Val : \", len(X_val))\n",
    "print(\"Len of X Val : \", X_val.shape)\n",
    "\n"
   ]
  },
  {
   "cell_type": "code",
   "execution_count": 11,
   "metadata": {
    "code_folding": [
     0
    ],
    "collapsed": true
   },
   "outputs": [
    {
     "name": "stdout",
     "output_type": "stream",
     "text": [
      "finished loading 5000 images from 10 categories\n",
      "train / validation / test split: 3500, 750, 750\n",
      "training data shape:  (3500, 96, 96, 3)\n",
      "training labels shape:  (3500, 10)\n"
     ]
    }
   ],
   "source": [
    "# convert labels to one-hot vectors\n",
    "y_train = keras.utils.to_categorical(y_train, num_classes)\n",
    "y_val = keras.utils.to_categorical(y_val, num_classes)\n",
    "y_test = keras.utils.to_categorical(y_test, num_classes)\n",
    "\n",
    "# summary\n",
    "print(\"finished loading %d images from %d categories\"%(len(shuffle_index), num_classes))\n",
    "print(\"train / validation / test split: %d, %d, %d\"%(len(X_train), len(X_val), len(X_test)))\n",
    "print(\"training data shape: \", X_train.shape)\n",
    "print(\"training labels shape: \", y_train.shape)"
   ]
  },
  {
   "cell_type": "code",
   "execution_count": 12,
   "metadata": {
    "code_folding": [
     0
    ],
    "collapsed": true
   },
   "outputs": [
    {
     "name": "stdout",
     "output_type": "stream",
     "text": [
      "_________________________________________________________________\n",
      "Layer (type)                 Output Shape              Param #   \n",
      "=================================================================\n",
      "conv2d_1 (Conv2D)            (None, 94, 94, 32)        896       \n",
      "_________________________________________________________________\n",
      "activation_1 (Activation)    (None, 94, 94, 32)        0         \n",
      "_________________________________________________________________\n",
      "max_pooling2d_1 (MaxPooling2 (None, 47, 47, 32)        0         \n",
      "_________________________________________________________________\n",
      "conv2d_2 (Conv2D)            (None, 45, 45, 32)        9248      \n",
      "_________________________________________________________________\n",
      "activation_2 (Activation)    (None, 45, 45, 32)        0         \n",
      "_________________________________________________________________\n",
      "max_pooling2d_2 (MaxPooling2 (None, 22, 22, 32)        0         \n",
      "_________________________________________________________________\n",
      "dropout_1 (Dropout)          (None, 22, 22, 32)        0         \n",
      "_________________________________________________________________\n",
      "conv2d_3 (Conv2D)            (None, 20, 20, 32)        9248      \n",
      "_________________________________________________________________\n",
      "activation_3 (Activation)    (None, 20, 20, 32)        0         \n",
      "_________________________________________________________________\n",
      "max_pooling2d_3 (MaxPooling2 (None, 10, 10, 32)        0         \n",
      "_________________________________________________________________\n",
      "conv2d_4 (Conv2D)            (None, 8, 8, 32)          9248      \n",
      "_________________________________________________________________\n",
      "activation_4 (Activation)    (None, 8, 8, 32)          0         \n",
      "_________________________________________________________________\n",
      "max_pooling2d_4 (MaxPooling2 (None, 4, 4, 32)          0         \n",
      "_________________________________________________________________\n",
      "dropout_2 (Dropout)          (None, 4, 4, 32)          0         \n",
      "_________________________________________________________________\n",
      "flatten_1 (Flatten)          (None, 512)               0         \n",
      "_________________________________________________________________\n",
      "dense_1 (Dense)              (None, 256)               131328    \n",
      "_________________________________________________________________\n",
      "activation_5 (Activation)    (None, 256)               0         \n",
      "_________________________________________________________________\n",
      "dropout_3 (Dropout)          (None, 256)               0         \n",
      "_________________________________________________________________\n",
      "dense_2 (Dense)              (None, 10)                2570      \n",
      "_________________________________________________________________\n",
      "activation_6 (Activation)    (None, 10)                0         \n",
      "=================================================================\n",
      "Total params: 162,538\n",
      "Trainable params: 162,538\n",
      "Non-trainable params: 0\n",
      "_________________________________________________________________\n"
     ]
    }
   ],
   "source": [
    "# build the network\n",
    "model = Sequential()\n",
    "\n",
    "model.add(Conv2D(32, (3, 3), input_shape=X_train.shape[1:]))\n",
    "model.add(Activation('relu'))\n",
    "model.add(MaxPooling2D(pool_size=(2, 2)))\n",
    "\n",
    "model.add(Conv2D(32, (3, 3)))\n",
    "model.add(Activation('relu'))\n",
    "model.add(MaxPooling2D(pool_size=(2, 2)))\n",
    "\n",
    "model.add(Dropout(0.25))\n",
    "\n",
    "model.add(Conv2D(32, (3, 3)))\n",
    "model.add(Activation('relu'))\n",
    "model.add(MaxPooling2D(pool_size=(2, 2)))\n",
    "\n",
    "model.add(Conv2D(32, (3, 3)))\n",
    "model.add(Activation('relu'))\n",
    "model.add(MaxPooling2D(pool_size=(2, 2)))\n",
    "\n",
    "model.add(Dropout(0.25))\n",
    "\n",
    "model.add(Flatten())\n",
    "model.add(Dense(256))\n",
    "model.add(Activation('relu'))\n",
    "\n",
    "model.add(Dropout(0.5))\n",
    "\n",
    "model.add(Dense(num_classes))\n",
    "model.add(Activation('softmax'))\n",
    "\n",
    "# compile the model to use categorical cross-entropy loss function and adadelta optimizer\n",
    "model.compile(loss='categorical_crossentropy',\n",
    "              optimizer='adadelta',\n",
    "              metrics=['accuracy'])\n",
    "\n",
    "model.summary()"
   ]
  },
  {
   "cell_type": "code",
   "execution_count": 13,
   "metadata": {
    "code_folding": [
     0
    ],
    "collapsed": true
   },
   "outputs": [
    {
     "name": "stdout",
     "output_type": "stream",
     "text": [
      "Train on 3500 samples, validate on 750 samples\n",
      "Epoch 1/10\n",
      "3500/3500 [==============================] - 71s - loss: 2.2963 - acc: 0.1120 - val_loss: 2.3005 - val_acc: 0.0987\n",
      "Epoch 2/10\n",
      "3500/3500 [==============================] - 64s - loss: 2.2338 - acc: 0.1549 - val_loss: 2.2564 - val_acc: 0.1293\n",
      "Epoch 3/10\n",
      "3500/3500 [==============================] - 65s - loss: 2.1293 - acc: 0.2020 - val_loss: 2.1852 - val_acc: 0.1987\n",
      "Epoch 4/10\n",
      "3500/3500 [==============================] - 65s - loss: 1.9574 - acc: 0.2726 - val_loss: 1.8154 - val_acc: 0.3067\n",
      "Epoch 5/10\n",
      "3500/3500 [==============================] - 65s - loss: 1.8321 - acc: 0.3097 - val_loss: 1.7347 - val_acc: 0.3760\n",
      "Epoch 6/10\n",
      "3500/3500 [==============================] - 66s - loss: 1.7791 - acc: 0.3114 - val_loss: 1.6968 - val_acc: 0.3360\n",
      "Epoch 7/10\n",
      "3500/3500 [==============================] - 66s - loss: 1.7311 - acc: 0.3306 - val_loss: 1.6115 - val_acc: 0.3933\n",
      "Epoch 8/10\n",
      "3500/3500 [==============================] - 65s - loss: 1.6604 - acc: 0.3669 - val_loss: 1.5770 - val_acc: 0.3867\n",
      "Epoch 9/10\n",
      "3500/3500 [==============================] - 66s - loss: 1.6362 - acc: 0.3814 - val_loss: 1.6033 - val_acc: 0.4040\n",
      "Epoch 10/10\n",
      "3500/3500 [==============================] - 66s - loss: 1.5995 - acc: 0.3911 - val_loss: 1.5638 - val_acc: 0.4107\n"
     ]
    }
   ],
   "source": [
    "# latest_weights_filename = None\n",
    "# num_of_epochs = 10\n",
    "# for epoch in range(num_of_epochs):\n",
    "#     print(\"Running Epoch %d\" %epoch)\n",
    "#     model.fit(X_train, y_train,\n",
    "#              batch_size=64,\n",
    "#              epochs=1,\n",
    "#              validation_data=(X_val, y_val))\n",
    "#     latest_weights_filename = 'ft%d.h5' % epoch\n",
    "#     model.save_weights(latest_weights_filename)\n",
    "    \n",
    "# print(\"Completed %s fit operations\" % num_of_epochs)\n",
    "\n",
    "history = model.fit(X_train, y_train,\n",
    "                    batch_size=64,\n",
    "                    epochs=10,\n",
    "                    validation_data=(X_val, y_val))"
   ]
  },
  {
   "cell_type": "code",
   "execution_count": 14,
   "metadata": {
    "collapsed": true
   },
   "outputs": [
    {
     "data": {
      "image/png": "[encoded data removed]",
      "text/plain": [
       "<matplotlib.figure.Figure at 0x1f2b4a30a58>"
      ]
     },
     "metadata": {},
     "output_type": "display_data"
    }
   ],
   "source": [
    "fig = plt.figure(figsize=(16,4))\n",
    "ax = fig.add_subplot(121)\n",
    "ax.plot(history.history[\"val_loss\"])\n",
    "ax.set_title(\"validation loss\")\n",
    "ax.set_xlabel(\"epochs\")\n",
    "\n",
    "ax2 = fig.add_subplot(122)\n",
    "ax2.plot(history.history[\"val_acc\"])\n",
    "ax2.set_title(\"validation accuracy\")\n",
    "ax2.set_xlabel(\"epochs\")\n",
    "ax2.set_ylim(0, 1)\n",
    "\n",
    "plt.show()"
   ]
  },
  {
   "cell_type": "code",
   "execution_count": 15,
   "metadata": {
    "collapsed": true
   },
   "outputs": [
    {
     "name": "stdout",
     "output_type": "stream",
     "text": [
      "Test loss: 1.61587193839\n",
      "Test accuracy: 0.388000000159\n"
     ]
    }
   ],
   "source": [
    "loss, accuracy = model.evaluate(X_test, y_test, verbose=0)\n",
    "print('Test loss:', loss)\n",
    "print('Test accuracy:', accuracy)"
   ]
  },
  {
   "cell_type": "code",
   "execution_count": 16,
   "metadata": {
    "collapsed": true
   },
   "outputs": [
    {
     "data": {
      "text/plain": [
       "(96, 96, 3)"
      ]
     },
     "execution_count": 16,
     "metadata": {},
     "output_type": "execute_result"
    }
   ],
   "source": [
    "X_train.shape[1:]"
   ]
  },
  {
   "cell_type": "code",
   "execution_count": 17,
   "metadata": {
    "code_folding": [],
    "collapsed": true
   },
   "outputs": [
    {
     "name": "stdout",
     "output_type": "stream",
     "text": [
      "_________________________________________________________________\n",
      "Layer (type)                 Output Shape              Param #   \n",
      "=================================================================\n",
      "input_1 (InputLayer)         (None, 96, 96, 3)         0         \n",
      "_________________________________________________________________\n",
      "block1_conv1 (Conv2D)        (None, 96, 96, 64)        1792      \n",
      "_________________________________________________________________\n",
      "block1_conv2 (Conv2D)        (None, 96, 96, 64)        36928     \n",
      "_________________________________________________________________\n",
      "block1_pool (MaxPooling2D)   (None, 48, 48, 64)        0         \n",
      "_________________________________________________________________\n",
      "block2_conv1 (Conv2D)        (None, 48, 48, 128)       73856     \n",
      "_________________________________________________________________\n",
      "block2_conv2 (Conv2D)        (None, 48, 48, 128)       147584    \n",
      "_________________________________________________________________\n",
      "block2_pool (MaxPooling2D)   (None, 24, 24, 128)       0         \n",
      "_________________________________________________________________\n",
      "block3_conv1 (Conv2D)        (None, 24, 24, 256)       295168    \n",
      "_________________________________________________________________\n",
      "block3_conv2 (Conv2D)        (None, 24, 24, 256)       590080    \n",
      "_________________________________________________________________\n",
      "block3_conv3 (Conv2D)        (None, 24, 24, 256)       590080    \n",
      "_________________________________________________________________\n",
      "block3_pool (MaxPooling2D)   (None, 12, 12, 256)       0         \n",
      "_________________________________________________________________\n",
      "block4_conv1 (Conv2D)        (None, 12, 12, 512)       1180160   \n",
      "_________________________________________________________________\n",
      "block4_conv2 (Conv2D)        (None, 12, 12, 512)       2359808   \n",
      "_________________________________________________________________\n",
      "block4_conv3 (Conv2D)        (None, 12, 12, 512)       2359808   \n",
      "_________________________________________________________________\n",
      "block4_pool (MaxPooling2D)   (None, 6, 6, 512)         0         \n",
      "_________________________________________________________________\n",
      "block5_conv1 (Conv2D)        (None, 6, 6, 512)         2359808   \n",
      "_________________________________________________________________\n",
      "block5_conv2 (Conv2D)        (None, 6, 6, 512)         2359808   \n",
      "_________________________________________________________________\n",
      "block5_conv3 (Conv2D)        (None, 6, 6, 512)         2359808   \n",
      "_________________________________________________________________\n",
      "block5_pool (MaxPooling2D)   (None, 3, 3, 512)         0         \n",
      "=================================================================\n",
      "Total params: 14,714,688\n",
      "Trainable params: 14,714,688\n",
      "Non-trainable params: 0\n",
      "_________________________________________________________________\n"
     ]
    }
   ],
   "source": [
    "# vgg = keras.applications.VGG16(weights='imagenet', include_top=False, input_shape=X_train.shape[1:])\n",
    "vgg = keras.applications.VGG16(weights='imagenet', include_top=False,input_shape=(X_train.shape[1:]))\n",
    "# vgg = keras.applications.VGG16(weights='imagenet', include_top=False,input_shape=(96,96,3))\n",
    "# vgg = keras.applications.VGG16(weights='imagenet', include_top=True)\n",
    "\n",
    "vgg.summary()"
   ]
  },
  {
   "cell_type": "code",
   "execution_count": 18,
   "metadata": {
    "code_folding": [
     0
    ],
    "collapsed": true
   },
   "outputs": [
    {
     "name": "stdout",
     "output_type": "stream",
     "text": [
      "_________________________________________________________________\n",
      "Layer (type)                 Output Shape              Param #   \n",
      "=================================================================\n",
      "input_1 (InputLayer)         (None, 96, 96, 3)         0         \n",
      "_________________________________________________________________\n",
      "block1_conv1 (Conv2D)        (None, 96, 96, 64)        1792      \n",
      "_________________________________________________________________\n",
      "block1_conv2 (Conv2D)        (None, 96, 96, 64)        36928     \n",
      "_________________________________________________________________\n",
      "block1_pool (MaxPooling2D)   (None, 48, 48, 64)        0         \n",
      "_________________________________________________________________\n",
      "block2_conv1 (Conv2D)        (None, 48, 48, 128)       73856     \n",
      "_________________________________________________________________\n",
      "block2_conv2 (Conv2D)        (None, 48, 48, 128)       147584    \n",
      "_________________________________________________________________\n",
      "block2_pool (MaxPooling2D)   (None, 24, 24, 128)       0         \n",
      "_________________________________________________________________\n",
      "block3_conv1 (Conv2D)        (None, 24, 24, 256)       295168    \n",
      "_________________________________________________________________\n",
      "block3_conv2 (Conv2D)        (None, 24, 24, 256)       590080    \n",
      "_________________________________________________________________\n",
      "block3_conv3 (Conv2D)        (None, 24, 24, 256)       590080    \n",
      "_________________________________________________________________\n",
      "block3_pool (MaxPooling2D)   (None, 12, 12, 256)       0         \n",
      "_________________________________________________________________\n",
      "block4_conv1 (Conv2D)        (None, 12, 12, 512)       1180160   \n",
      "_________________________________________________________________\n",
      "block4_conv2 (Conv2D)        (None, 12, 12, 512)       2359808   \n",
      "_________________________________________________________________\n",
      "block4_conv3 (Conv2D)        (None, 12, 12, 512)       2359808   \n",
      "_________________________________________________________________\n",
      "block4_pool (MaxPooling2D)   (None, 6, 6, 512)         0         \n",
      "_________________________________________________________________\n",
      "block5_conv1 (Conv2D)        (None, 6, 6, 512)         2359808   \n",
      "_________________________________________________________________\n",
      "block5_conv2 (Conv2D)        (None, 6, 6, 512)         2359808   \n",
      "_________________________________________________________________\n",
      "block5_conv3 (Conv2D)        (None, 6, 6, 512)         2359808   \n",
      "_________________________________________________________________\n",
      "flatten_2 (Flatten)          (None, 18432)             0         \n",
      "_________________________________________________________________\n",
      "dense_3 (Dense)              (None, 10)                184330    \n",
      "=================================================================\n",
      "Total params: 14,899,018\n",
      "Trainable params: 14,899,018\n",
      "Non-trainable params: 0\n",
      "_________________________________________________________________\n"
     ]
    }
   ],
   "source": [
    "# make a reference to VGG's input layer\n",
    "inp = vgg.input\n",
    "\n",
    "# make a new softmax layer with num_classes neurons\n",
    "flatten = Flatten()(vgg.layers[-2].output)\n",
    "out = Dense(num_classes, activation='softmax')(flatten)\n",
    "\n",
    "\n",
    "# connect our new layer to the second to last layer in VGG, and make a reference to it\n",
    "# out = new_classification_layer(vgg.layers[-2].output)\n",
    "\n",
    "# create a new network between inp and out\n",
    "model_new = Model(inp, out)\n",
    "\n",
    "# new_classification_layer = Dense(num_classes, activation='softmax')\n",
    "\n",
    "# model_new = Model(model_intermediate , new_classification_layer)\n",
    "# #Need to add Flatten before Dense\n",
    "\n",
    "# model_new.add(Dense(num_classes))\n",
    "model_new.summary()\n",
    "# model_new.save??\n",
    "\n"
   ]
  },
  {
   "cell_type": "code",
   "execution_count": 19,
   "metadata": {
    "code_folding": [
     0
    ],
    "collapsed": true
   },
   "outputs": [
    {
     "name": "stdout",
     "output_type": "stream",
     "text": [
      "_________________________________________________________________\n",
      "Layer (type)                 Output Shape              Param #   \n",
      "=================================================================\n",
      "input_1 (InputLayer)         (None, 96, 96, 3)         0         \n",
      "_________________________________________________________________\n",
      "block1_conv1 (Conv2D)        (None, 96, 96, 64)        1792      \n",
      "_________________________________________________________________\n",
      "block1_conv2 (Conv2D)        (None, 96, 96, 64)        36928     \n",
      "_________________________________________________________________\n",
      "block1_pool (MaxPooling2D)   (None, 48, 48, 64)        0         \n",
      "_________________________________________________________________\n",
      "block2_conv1 (Conv2D)        (None, 48, 48, 128)       73856     \n",
      "_________________________________________________________________\n",
      "block2_conv2 (Conv2D)        (None, 48, 48, 128)       147584    \n",
      "_________________________________________________________________\n",
      "block2_pool (MaxPooling2D)   (None, 24, 24, 128)       0         \n",
      "_________________________________________________________________\n",
      "block3_conv1 (Conv2D)        (None, 24, 24, 256)       295168    \n",
      "_________________________________________________________________\n",
      "block3_conv2 (Conv2D)        (None, 24, 24, 256)       590080    \n",
      "_________________________________________________________________\n",
      "block3_conv3 (Conv2D)        (None, 24, 24, 256)       590080    \n",
      "_________________________________________________________________\n",
      "block3_pool (MaxPooling2D)   (None, 12, 12, 256)       0         \n",
      "_________________________________________________________________\n",
      "block4_conv1 (Conv2D)        (None, 12, 12, 512)       1180160   \n",
      "_________________________________________________________________\n",
      "block4_conv2 (Conv2D)        (None, 12, 12, 512)       2359808   \n",
      "_________________________________________________________________\n",
      "block4_conv3 (Conv2D)        (None, 12, 12, 512)       2359808   \n",
      "_________________________________________________________________\n",
      "block4_pool (MaxPooling2D)   (None, 6, 6, 512)         0         \n",
      "_________________________________________________________________\n",
      "block5_conv1 (Conv2D)        (None, 6, 6, 512)         2359808   \n",
      "_________________________________________________________________\n",
      "block5_conv2 (Conv2D)        (None, 6, 6, 512)         2359808   \n",
      "_________________________________________________________________\n",
      "block5_conv3 (Conv2D)        (None, 6, 6, 512)         2359808   \n",
      "_________________________________________________________________\n",
      "flatten_2 (Flatten)          (None, 18432)             0         \n",
      "_________________________________________________________________\n",
      "dense_3 (Dense)              (None, 10)                184330    \n",
      "=================================================================\n",
      "Total params: 14,899,018\n",
      "Trainable params: 184,330\n",
      "Non-trainable params: 14,714,688\n",
      "_________________________________________________________________\n"
     ]
    }
   ],
   "source": [
    "# make all layers untrainable by freezing weights (except for last layer)\n",
    "for l, layer in enumerate(model_new.layers[:-1]):\n",
    "    layer.trainable = False\n",
    "\n",
    "# ensure the last layer is trainable/not frozen\n",
    "for l, layer in enumerate(model_new.layers[-1:]):\n",
    "    layer.trainable = True\n",
    "\n",
    "model_new.compile(loss='categorical_crossentropy',\n",
    "              optimizer='adadelta',\n",
    "              metrics=['accuracy'])\n",
    "model_new.summary()"
   ]
  },
  {
   "cell_type": "code",
   "execution_count": 20,
   "metadata": {
    "code_folding": [
     0
    ],
    "collapsed": true
   },
   "outputs": [
    {
     "name": "stdout",
     "output_type": "stream",
     "text": [
      "Train on 3500 samples, validate on 750 samples\n",
      "Epoch 1/10\n",
      "3500/3500 [==============================] - 479s - loss: 1.3311 - acc: 0.5506 - val_loss: 0.9965 - val_acc: 0.6680\n",
      "Epoch 2/10\n",
      "3500/3500 [==============================] - 477s - loss: 0.7936 - acc: 0.7443 - val_loss: 0.8492 - val_acc: 0.7053\n",
      "Epoch 3/10\n",
      "3500/3500 [==============================] - 479s - loss: 0.6402 - acc: 0.7934 - val_loss: 0.7836 - val_acc: 0.7320\n",
      "Epoch 4/10\n",
      "3500/3500 [==============================] - 481s - loss: 0.5423 - acc: 0.8320 - val_loss: 0.7477 - val_acc: 0.7427\n",
      "Epoch 5/10\n",
      "3500/3500 [==============================] - 480s - loss: 0.4837 - acc: 0.8477 - val_loss: 0.7400 - val_acc: 0.7427\n",
      "Epoch 6/10\n",
      "3500/3500 [==============================] - 479s - loss: 0.4202 - acc: 0.8777 - val_loss: 0.7227 - val_acc: 0.7467\n",
      "Epoch 7/10\n",
      "3500/3500 [==============================] - 480s - loss: 0.3768 - acc: 0.8989 - val_loss: 0.7195 - val_acc: 0.7507\n",
      "Epoch 8/10\n",
      "3500/3500 [==============================] - 479s - loss: 0.3343 - acc: 0.9117 - val_loss: 0.6939 - val_acc: 0.7573\n",
      "Epoch 9/10\n",
      "3500/3500 [==============================] - 478s - loss: 0.3046 - acc: 0.9243 - val_loss: 0.7129 - val_acc: 0.7573\n",
      "Epoch 10/10\n",
      "3500/3500 [==============================] - 485s - loss: 0.2733 - acc: 0.9374 - val_loss: 0.7161 - val_acc: 0.7520\n"
     ]
    }
   ],
   "source": [
    "#Do the actual stuff on VGG16 now\n",
    "# num_of_epochs = 10\n",
    "# latest_weights_filename = None\n",
    "# for epoch in range(num_of_epochs):\n",
    "#     print(\"Running Epoch %d\" %epoch)\n",
    "#     model_new.fit(X_train, y_train,\n",
    "#              batch_size=64,\n",
    "#              epochs=1,\n",
    "#              validation_data=(X_val, y_val))\n",
    "#     latest_weights_filename = 'ft_vgg16%d.h5' % epoch\n",
    "#     model_new.save_weights(latest_weights_filename)\n",
    "\n",
    "history2 = model_new.fit(X_train, y_train, \n",
    "                         batch_size=64, \n",
    "                         epochs=10, \n",
    "                         validation_data=(X_val, y_val))"
   ]
  },
  {
   "cell_type": "code",
   "execution_count": 21,
   "metadata": {},
   "outputs": [
    {
     "name": "stdout",
     "output_type": "stream",
     "text": [
      "2.0.8\n"
     ]
    }
   ],
   "source": [
    "print(keras.__version__)"
   ]
  },
  {
   "cell_type": "code",
   "execution_count": 22,
   "metadata": {},
   "outputs": [
    {
     "name": "stderr",
     "output_type": "stream",
     "text": [
      "Python 3.6.3 :: Anaconda custom (64-bit)\n"
     ]
    }
   ],
   "source": [
    "!python --version"
   ]
  },
  {
   "cell_type": "code",
   "execution_count": 23,
   "metadata": {},
   "outputs": [
    {
     "name": "stdout",
     "output_type": "stream",
     "text": [
      "750/750 [==============================] - 87s    \n",
      "Test loss: 0.704158426762\n",
      "Test accuracy: 0.746666666826\n"
     ]
    }
   ],
   "source": [
    "loss, accuracy = model_new.evaluate(X_test, y_test, verbose=1)\n",
    "\n",
    "print('Test loss:', loss)\n",
    "print('Test accuracy:', accuracy)"
   ]
  },
  {
   "cell_type": "code",
   "execution_count": null,
   "metadata": {
    "collapsed": true
   },
   "outputs": [],
   "source": []
  }
 ],
 "metadata": {
  "anaconda-cloud": {},
  "kernelspec": {
   "display_name": "Python 3",
   "language": "python",
   "name": "python3"
  },
  "language_info": {
   "codemirror_mode": {
    "name": "ipython",
    "version": 3
   },
   "file_extension": ".py",
   "mimetype": "text/x-python",
   "name": "python",
   "nbconvert_exporter": "python",
   "pygments_lexer": "ipython3",
   "version": "3.6.3"
  },
  "nav_menu": {},
  "nbpresent": {
   "slides": {
    "28b43202-5690-4169-9aca-6b9dabfeb3ec": {
     "id": "28b43202-5690-4169-9aca-6b9dabfeb3ec",
     "prev": null,
     "regions": {
      "3bba644a-cf4d-4a49-9fbd-e2554428cf9f": {
       "attrs": {
        "height": 0.8,
        "width": 0.8,
        "x": 0.1,
        "y": 0.1
       },
       "content": {
        "cell": "f3d3a388-7e2a-4151-9b50-c20498fceacc",
        "part": "whole"
       },
       "id": "3bba644a-cf4d-4a49-9fbd-e2554428cf9f"
      }
     }
    },
    "8104def2-4b68-44a0-8f1b-b03bf3b2a079": {
     "id": "8104def2-4b68-44a0-8f1b-b03bf3b2a079",
     "prev": "28b43202-5690-4169-9aca-6b9dabfeb3ec",
     "regions": {
      "7dded777-1ddf-4100-99ae-25cf1c15b575": {
       "attrs": {
        "height": 0.8,
        "width": 0.8,
        "x": 0.1,
        "y": 0.1
       },
       "content": {
        "cell": "fe47bd48-3414-4657-92e7-8b8d6cb0df00",
        "part": "whole"
       },
       "id": "7dded777-1ddf-4100-99ae-25cf1c15b575"
      }
     }
    }
   },
   "themes": {}
  },
  "toc": {
   "nav_menu": {
    "height": "148px",
    "width": "254px"
   },
   "navigate_menu": true,
   "number_sections": true,
   "sideBar": true,
   "threshold": 6,
   "toc_cell": false,
   "toc_section_display": "block",
   "toc_window_display": false
  }
 },
 "nbformat": 4,
 "nbformat_minor": 1
}
